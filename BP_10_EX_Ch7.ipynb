{
  "nbformat": 4,
  "nbformat_minor": 0,
  "metadata": {
    "colab": {
      "provenance": [],
      "authorship_tag": "ABX9TyNwI+QCvsK8rmPMnZCtZvvD",
      "include_colab_link": true
    },
    "kernelspec": {
      "name": "python3",
      "display_name": "Python 3"
    },
    "language_info": {
      "name": "python"
    }
  },
  "cells": [
    {
      "cell_type": "markdown",
      "metadata": {
        "id": "view-in-github",
        "colab_type": "text"
      },
      "source": [
        "<a href=\"https://colab.research.google.com/github/leeyujinn/BP_10_Ch7/blob/main/BP_10_EX_Ch7.ipynb\" target=\"_parent\"><img src=\"https://colab.research.google.com/assets/colab-badge.svg\" alt=\"Open In Colab\"/></a>"
      ]
    },
    {
      "cell_type": "markdown",
      "source": [
        "5. 다음과 같이 이름을 받아서 생일 축하 노래를 출력하는 함수 happyBirthday()를 작성하고 테스트하시오."
      ],
      "metadata": {
        "id": "zSPXDI7c3YMD"
      }
    },
    {
      "cell_type": "code",
      "source": [
        "def happyBirthday(person): #happyBirthday로 함수 선언.\n",
        "  print(\"Happy Birthday to you!\") #Happy Birthday to you!를 출력\n",
        "  print(\"Happy Birthday to you!\") #Happy Birthday to you!를 출력\n",
        "  print(\"Happy Birthday, dear \"+person) #Happy Birthday, dear person(홍길동)을 출력\n",
        "  print(\"Happy Birthday to you!\") #Happy Birthday to you!를 출력\n",
        "\n",
        "happyBirthday(\"홍길동\") #person에 홍길동을 대입"
      ],
      "metadata": {
        "colab": {
          "base_uri": "https://localhost:8080/"
        },
        "id": "X2W1q-He-Xnq",
        "outputId": "7417c87f-6c49-446b-d5fc-76b7e2d86b9a"
      },
      "execution_count": null,
      "outputs": [
        {
          "output_type": "stream",
          "name": "stdout",
          "text": [
            "Happy Birthday to you!\n",
            "Happy Birthday to you!\n",
            "Happy Birthday, dear 홍길동\n",
            "Happy Birthday to you!\n"
          ]
        }
      ]
    },
    {
      "cell_type": "markdown",
      "source": [
        "6. 사용자로부터 2개의 정수를 받아서 수학 문제를 만들어서 화면에 출력하는 함수를 작성하고 테스트하시오."
      ],
      "metadata": {
        "id": "ZDIBS2jQFXKC"
      }
    },
    {
      "cell_type": "code",
      "source": [
        "def sumProblem(x,y): #sumProblem으로 함수 선언\n",
        "  sum = x+y #변수 sum을 x+y로 선언\n",
        "  sentence = \"정수\" + str(x) + \"+\" + str(y) + \"의 합은?\" #str : 숫자열을 문자열로 변환, 변수 sentence에 정수 x+y의 합은?을 저장\n",
        "  print(sentence) #변수 sentence를 출력\n",
        "\n",
        "def main(): #main으로 함수 선언\n",
        "  a = int(input(\"첫 번째 정수:\")) #사용자로부터 첫 번째 정수 값을 받음\n",
        "  b = int(input(\"두 번째 정수:\")) #사용자로부터 두 번째 정수 값을 받음\n",
        "  sumProblem(a,b) #x,y에 a,b를 대입\n",
        "\n",
        "main() #실행(출력)하기"
      ],
      "metadata": {
        "id": "Y2gz35MRFdPT",
        "colab": {
          "base_uri": "https://localhost:8080/"
        },
        "outputId": "69d080bf-c340-4c05-e4a6-0e41a84dd9b0"
      },
      "execution_count": null,
      "outputs": [
        {
          "output_type": "stream",
          "name": "stdout",
          "text": [
            "첫 번째 정수:10\n",
            "두 번째 정수:20\n",
            "정수10+20의 합은?\n"
          ]
        }
      ]
    },
    {
      "cell_type": "markdown",
      "source": [
        "7. 파이를 나타내는 PI=3.14를 전역 변수로 하여 원의 면적을 계산하는 함수 circleArea(radius)과 원의 둘레를 계산하는 함수 circleCircumference(radius)를 작성하고 테스트하라."
      ],
      "metadata": {
        "id": "0z8dXCGpIEIS"
      }
    },
    {
      "cell_type": "code",
      "source": [
        "PI = 3.14159265358979 #변수 PI를 3.14159265358979로 저장\n",
        "\n",
        "def circleArea(radius): #circleArea로 함수 선언\n",
        "  return PI*radius*radius #PI*radius*radius의 결과값을 반환\n",
        "\n",
        "def circleCircumference(radius): #circleCircumference로 함수 선언\n",
        "  return 2*PI*radius #2*PI*radius의 결과값을 반환\n",
        "\n",
        "def main(): #main으로 함수 선언언\n",
        "  print('반지름이 5인 원의 면적:', circleArea(5)) #반지름이 5인 원의 면적을 출력\n",
        "  print('반지름이 5인 원의 둘레:', circleCircumference(5)) #반지름이 5인 원의 둘레를 출력\n",
        "\n",
        "main() #실행(출력)하기"
      ],
      "metadata": {
        "id": "hHdl9h3QJAUa"
      },
      "execution_count": null,
      "outputs": []
    },
    {
      "cell_type": "markdown",
      "source": [
        "8. 덧셈, 뺄셈, 곱셈, 나눗셈을 수행하는 함수를 각각 작성하고 테스트하라."
      ],
      "metadata": {
        "id": "kVd6ssglJsLC"
      }
    },
    {
      "cell_type": "code",
      "source": [
        "def add(a,b): #add로 함수 선언\n",
        "  print(\"(%d + %d)\" % (a,b), end=\" \") #%d는 정수 출력 코드, end=\" \"는 print의의 내용이 한줄로 이어지게 출력하는 것\n",
        "  return a + b #a+b의 결과값을 반환\n",
        "\n",
        "def subtract(a,b): #subtract로 함수 선언\n",
        "  print(\"(%d - %d)\" % (a,b), end=\" \") #%d는 정수 출력 코드, end=\" \"는 print의 내용이 한줄로 이어지게 출력하는 것\n",
        "  return a - b #a-b의 결과값을 반환\n",
        "\n",
        "def multiply(a,b): #multiply로 함수 선언\n",
        "  print(\"(%d * %d)\" % (a,b), end=\" \") #%d는 정수 출력 코드, end=\" \"는 print의 내용이 한줄로 이어지게 출력하는 것\n",
        "  return a * b #a*b의 결과값을 반환\n",
        "\n",
        "def divide(a,b): #divide로 함수 선언언\n",
        "  print(\"(%d / %d)\" % (a,b), end=\" \") #%d는 정수 출력 코드, end=\" \"는 print의 내용이 한줄로 이어지게 출력하는 것것\n",
        "  return a / b #a/b의 결과값을 반환\n",
        "\n",
        "\n",
        "what = add(20,10) #a,b에 20,10을 대입\n",
        "print(\"= \", what) #= 변수 what의 값을 출력"
      ],
      "metadata": {
        "colab": {
          "base_uri": "https://localhost:8080/"
        },
        "id": "goGOWrLGJ1bh",
        "outputId": "919180c7-96ff-4492-b5ef-e440a8863190"
      },
      "execution_count": null,
      "outputs": [
        {
          "output_type": "stream",
          "name": "stdout",
          "text": [
            "(20 + 10) =  30\n"
          ]
        }
      ]
    }
  ]
}